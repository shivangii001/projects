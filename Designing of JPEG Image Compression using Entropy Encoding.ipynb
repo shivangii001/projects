{
  "cells": [
    {
      "cell_type": "code",
      "execution_count": 1,
      "metadata": {
        "colab": {
          "base_uri": "https://localhost:8080/"
        },
        "id": "W7yBJ3wsh7F9",
        "outputId": "695c9e27-18eb-47f4-d59a-a1cab0a42d5c"
      },
      "outputs": [
        {
          "output_type": "stream",
          "name": "stdout",
          "text": [
            "Collecting bitarray\n",
            "  Downloading bitarray-2.8.3-cp310-cp310-manylinux_2_17_x86_64.manylinux2014_x86_64.whl (287 kB)\n",
            "\u001b[2K     \u001b[90m━━━━━━━━━━━━━━━━━━━━━━━━━━━━━━━━━━━━━━━━\u001b[0m \u001b[32m287.4/287.4 kB\u001b[0m \u001b[31m3.3 MB/s\u001b[0m eta \u001b[36m0:00:00\u001b[0m\n",
            "\u001b[?25hInstalling collected packages: bitarray\n",
            "Successfully installed bitarray-2.8.3\n"
          ]
        }
      ],
      "source": [
        "!pip install bitarray"
      ]
    },
    {
      "cell_type": "code",
      "execution_count": 2,
      "metadata": {
        "id": "dS1H7rH48KRD"
      },
      "outputs": [],
      "source": [
        "import math\n",
        "from struct import pack\n",
        "from bitarray import bitarray\n",
        "import numpy as np\n",
        "import cv2"
      ]
    },
    {
      "cell_type": "code",
      "execution_count": 3,
      "metadata": {
        "id": "EGVnuKKfKR3r"
      },
      "outputs": [],
      "source": [
        "def Q_l():\n",
        "  return(np.array([[16,11,10,16,24,40,51,61],[12,12,14,19,26,58,60,55],[14,13,16,24,40,57,69,56],[14,17,22,29,51,87,80,62],[18,22,37,56,68,109,103,77],[24,35,55,64,81,104,113,92],[49,64,78,87,103,121,120,101],[72,92,95,98,112,100,103,99]]))\n",
        "def Q_c():\n",
        "  return(np.array([[17,1,24,47,99,99,99,99],[18,21,26,66,99,99,99,99],[24,26,56,99,99,99,99,99],[47,66,99,99,99,99,99,99],[99,99,99,99,99,99,99,99],[99,99,99,99,99,99,99,99],[99,99,99,99,99,99,99,99],[99,99,99,99,99,99,99,99]]))"
      ]
    },
    {
      "cell_type": "code",
      "source": [
        "def RGB2YCbCr(RGB):\n",
        "  B=np.array([0,128,128])\n",
        "  return(np.dot(np.array([[0.299,0.587,0.114],[-0.169,-0.331,0.500],[0.500,-0.419,-0.081]]),RGB))\n",
        "def CbCr2RGB(Cb):\n",
        "  B=np.array([0,128,128])\n",
        "  return(np.dot(np.array([[1,0,1.402],[1,-0.344,-0.714],[1,1.772,0.0]]),Cb-B))"
      ],
      "metadata": {
        "id": "_08q70ApPqW0"
      },
      "execution_count": 4,
      "outputs": []
    },
    {
      "cell_type": "code",
      "execution_count": 5,
      "metadata": {
        "id": "X1nDvlSK8DiT"
      },
      "outputs": [],
      "source": [
        "def DCT(image):\n",
        "  N=image.shape\n",
        "  img_t=np.zeros(N)\n",
        "  for u in range(N[0]):\n",
        "    for v in range(N[1]):\n",
        "      if u==0:\n",
        "        alfa_u=np.sqrt(1/N[0])\n",
        "      else:\n",
        "        alfa_u=np.sqrt(2/N[0])\n",
        "      if v==0:\n",
        "        alfa_v=np.sqrt(1/N[1])\n",
        "      else:\n",
        "        alfa_v=np.sqrt(2/N[1])\n",
        "      for x in range(N[0]):\n",
        "        for y in range(N[1]):\n",
        "          img_t[u,v]=alfa_u*alfa_v*image[x,y]*np.cos((2*x+1)*u*np.pi/(2*N[0]))*np.cos((2*y+1)*v*np.pi/(2*N[1]))+img_t[u,v]\n",
        "  return img_t"
      ]
    },
    {
      "cell_type": "code",
      "source": [
        "def zig_zag(mat):\n",
        "  i=-1\n",
        "  j=1\n",
        "  ordered_mat=np.array([])\n",
        "  ordered_mat=np.append(ordered_mat,mat[0,0])\n",
        "  while(i<8 and j<8):\n",
        "    if(i==-1):\n",
        "      i+=1\n",
        "      while(j>=0 and i<8 and j<8):\n",
        "        ordered_mat=np.append(ordered_mat,mat[i,j])\n",
        "        j=j-1\n",
        "        i=i+1\n",
        "    if(j==-1):\n",
        "      j+=1\n",
        "      while(i>=0 and i<8 and j<8):\n",
        "        ordered_mat=np.append(ordered_mat,mat[i,j])\n",
        "        i=i-1\n",
        "        j=j+1\n",
        "  j=j-1\n",
        "  for k in range(7):\n",
        "    if(i==8):\n",
        "      i-=1\n",
        "      j+=2\n",
        "      while(j<8):\n",
        "        ordered_mat=np.append(ordered_mat,mat[i,j])\n",
        "        j=j+1\n",
        "        i=i-1\n",
        "    if(j==8):\n",
        "      j-=1\n",
        "      i+=2\n",
        "      while(i<8):\n",
        "        ordered_mat=np.append(ordered_mat,mat[i,j])\n",
        "        j=j-1\n",
        "        i=i+1\n",
        "  ordered_mat=list(ordered_mat.astype(int))\n",
        "  return(ordered_mat)"
      ],
      "metadata": {
        "id": "yYH_ITky7-Bp"
      },
      "execution_count": 6,
      "outputs": []
    },
    {
      "cell_type": "code",
      "execution_count": 7,
      "metadata": {
        "id": "NBvZPOLWnJbc"
      },
      "outputs": [],
      "source": [
        "def huffcode(code_dict,node,code):\n",
        "\n",
        "    if(node[1][1]==None and node[1][2]==None):\n",
        "        code_dict[node[1][0]]=code\n",
        "        return\n",
        "\n",
        "    if(node[1][1]!=None):\n",
        "        code_nxt=code+\"0\"\n",
        "        huffcode(code_dict,node[1][1],code_nxt)\n",
        "\n",
        "    if(node[1][2]!=None):\n",
        "        code_nxt=code+\"1\"\n",
        "        huffcode(code_dict,node[1][2],code_nxt)\n",
        "\n",
        "def modify_huffcode(code_dict):\n",
        "    new_code_dict = dict()\n",
        "    vals_list = [[] for _ in range(17)]\n",
        "    for (key,val) in code_dict.items():\n",
        "        vals_list[len(val)].append(key)\n",
        "\n",
        "    cur = 0\n",
        "    for i in range(17):\n",
        "        for j in range(len(vals_list[i])):\n",
        "            cur_bin = bin(cur)[2:]\n",
        "            if '0'*(i-len(cur_bin))+cur_bin=='1'*i:\n",
        "                vals_list[i+1] = [vals_list[i][j]]+vals_list[i+1]\n",
        "                continue\n",
        "            new_code_dict[vals_list[i][j]]='0'*(i-len(cur_bin))+cur_bin\n",
        "            cur+=1\n",
        "        cur<<=1\n",
        "    return new_code_dict\n",
        "\n",
        "def huffcode_gen(x):\n",
        "    freq=dict()\n",
        "    for i in range(len(x)):\n",
        "        if x[i] in freq:\n",
        "            freq[x[i]]+=1\n",
        "        else:\n",
        "            freq[x[i]]=1\n",
        "\n",
        "    pq=list()\n",
        "    for ele in freq:\n",
        "        pq.append([freq[ele],[ele,None,None]])\n",
        "\n",
        "    pq.sort()\n",
        "    while(len(pq)>1):\n",
        "        t1=pq[0]\n",
        "        t2=pq[1]\n",
        "\n",
        "        curr=[t1[0]+t2[0],[-1,t1,t2]]\n",
        "        pq.remove(t1)\n",
        "        pq.remove(t2)\n",
        "        pq.append(curr)\n",
        "        pq.sort(key = lambda t:t[0])\n",
        "\n",
        "    huffTree=pq[0]\n",
        "\n",
        "    code_dict=dict()\n",
        "    code=\"\"\n",
        "    huffcode(code_dict,huffTree,code)\n",
        "    code_dict=modify_huffcode(code_dict)\n",
        "    return code_dict"
      ]
    },
    {
      "cell_type": "code",
      "execution_count": 8,
      "metadata": {
        "id": "X5FtVkWVcg_j"
      },
      "outputs": [],
      "source": [
        "def write_Q(final_image, quant_table, type):\n",
        "    final_image.write(b'\\xff\\xdb')\n",
        "    final_image.write(pack(\">H\",67))\n",
        "    final_image.write(pack(\"B\",type))\n",
        "    zigzag_quant = zig_zag(quant_table)\n",
        "    for i in range(8*8):\n",
        "        final_image.write(pack(\"B\",zigzag_quant[i]))"
      ]
    },
    {
      "cell_type": "code",
      "execution_count": 9,
      "metadata": {
        "id": "9kkbFjmCnVH1"
      },
      "outputs": [],
      "source": [
        "def header(final_image,height,width,components):\n",
        "    final_image.write(b'\\xff\\xc0')\n",
        "    final_image.write(pack(\">H\",8+3*components))\n",
        "    final_image.write(pack(\"B\",8))\n",
        "    final_image.write(pack(\">HHB\",height,width,components))\n",
        "    for i in range(components):\n",
        "        final_image.write(pack(\"BBB\", i+1, 16+1, min(i,1)))"
      ]
    },
    {
      "cell_type": "code",
      "execution_count": 10,
      "metadata": {
        "id": "sbkved-z2J_9"
      },
      "outputs": [],
      "source": [
        "def write_huff_code(final_image,type,code):\n",
        "    final_image.write(b'\\xff\\xc4')\n",
        "    final_image.write(pack(\">HB\",19+len(code),type))\n",
        "    val_list = [[] for _ in range(16)]\n",
        "    for (key,val) in code.items():\n",
        "        val_list[len(val)-1].append(key)\n",
        "    for i in range(16):\n",
        "        final_image.write(pack(\"B\",len(val_list[i])))\n",
        "    for i in range(16):\n",
        "        for val in val_list[i]:\n",
        "            final_image.write(pack(\"B\",val))"
      ]
    },
    {
      "cell_type": "code",
      "execution_count": 11,
      "metadata": {
        "id": "VU0lzDKAAOtw"
      },
      "outputs": [],
      "source": [
        "def var_info(x):\n",
        "    if x==0:\n",
        "        return ''\n",
        "    if x<0:\n",
        "        x=-x\n",
        "        ans = bin((~x)&((1<<int(x).bit_length())-1))[2:]\n",
        "        ans = \"0\"*(len(bin(x))-2-len(ans))+ans\n",
        "    else:\n",
        "        ans=bin(x)[2:]\n",
        "    return ans"
      ]
    },
    {
      "cell_type": "code",
      "execution_count": 12,
      "metadata": {
        "id": "Hq-n54ZF5JZr"
      },
      "outputs": [],
      "source": [
        "def get_symb_val(seq):\n",
        "    vlc,vli = [],[]\n",
        "    for i in range(0,len(seq),3):\n",
        "        vlc.append(((seq[i]<<4)+seq[i+1]))\n",
        "        if vlc[-1]==0:\n",
        "            break\n",
        "        vli.append(var_info(seq[i+2]))\n",
        "    return vlc,vli"
      ]
    },
    {
      "cell_type": "code",
      "execution_count": 13,
      "metadata": {
        "id": "fXNoj_vqo_9w"
      },
      "outputs": [],
      "source": [
        "def pad_image(image):\n",
        "  N=image.shape\n",
        "  while(N[0]%8!=0):\n",
        "    image = np.insert(image,-1, image[N[0]-1,:,:], axis=0)\n",
        "    N=image.shape\n",
        "  while(N[1]%8!=0):\n",
        "    image = np.insert(image,-1, image[:,N[1]-1,:], axis=1)\n",
        "    N=image.shape\n",
        "  return(image)"
      ]
    },
    {
      "cell_type": "code",
      "execution_count": 14,
      "metadata": {
        "id": "On-pWyY8-hEX"
      },
      "outputs": [],
      "source": [
        "def compress(image):\n",
        "    image=pad_image(image)\n",
        "    image_t=np.zeros(image.shape)\n",
        "    height=image.shape[0]\n",
        "    width=image.shape[1]\n",
        "    DC_y, DC_Cb, DC_Cr, AC_y, AC_Cb, AC_Cr = [],[],[],[],[],[]\n",
        "    DC_y_vli,DC_Cb_vli,DC_Cr_vli,AC_Y_vli,AC_Cb_vli,AC_Cr_vli = [],[],[],[],[],[]\n",
        "    quant_lum = Q_l()\n",
        "    quant_chr = Q_c()\n",
        "    image_d=np.zeros(image.shape)\n",
        "    image_t=np.zeros(image.shape)\n",
        "    for j in range(0,width):\n",
        "        for i in range(0,height):\n",
        "          image_t[i,j,2]=image[i,j,0]-128\n",
        "          image_t[i,j,1]=image[i,j,1]-128\n",
        "          image_t[i,j,0]=image[i,j,2]-128\n",
        "    prev_Y_dc,prev_CB_dc,prev_CR_dc = 0,0,0\n",
        "    for i in range(height):\n",
        "      for j in range(width):\n",
        "        image_t[i,j,:]=RGB2YCbCr(image_t[i,j,:])\n",
        "    for i in range(0,image_t.shape[0],8):\n",
        "      for j in range(0,image_t.shape[1],8):\n",
        "        image_d[i:i+8,j:j+8,0]=DCT(image_t[i:i+8,j:j+8,0])/Q_l()\n",
        "        image_d[i:i+8,j:j+8,1]=DCT(image_t[i:i+8,j:j+8,1])/Q_c()\n",
        "        image_d[i:i+8,j:j+8,2]=DCT(image_t[i:i+8,j:j+8,2])/Q_c()\n",
        "    image_d=image_d.astype(int)\n",
        "    for i in range(height//8):\n",
        "        for j in range(width//8):\n",
        "            Y_z=zig_zag(image_d[i*8:i*8+8,j*8:j*8+8,0])\n",
        "            CB_z=zig_zag(image_d[i*8:i*8+8,j*8:j*8+8,1])\n",
        "            CR_z=zig_zag(image_d[i*8:i*8+8,j*8:j*8+8,2])\n",
        "            z=Y_z\n",
        "            p,q = 1, 1\n",
        "            lst = 63\n",
        "            rle = []\n",
        "            while lst>=0 and z[lst]==0:\n",
        "                lst -= 1\n",
        "            while q<=lst:\n",
        "                if (z[q]==0 and q-p+1==16) or z[q]!=0:\n",
        "                    rle += [q-p, int(z[q]).bit_length(), z[q]]\n",
        "                    p=q+1\n",
        "                q += 1\n",
        "            if lst!=63:\n",
        "                rle += [0,0]\n",
        "            Y_rle=rle\n",
        "            z=CB_z\n",
        "            p,q = 1, 1\n",
        "            lst = 63\n",
        "            rle = []\n",
        "            while lst>=0 and z[lst]==0:\n",
        "                lst -= 1\n",
        "            while q<=lst:\n",
        "                if (z[q]==0 and q-p+1==16) or z[q]!=0:\n",
        "                    rle += [q-p, int(z[q]).bit_length(), z[q]]\n",
        "                    p=q+1\n",
        "                q += 1\n",
        "            if lst!=63:\n",
        "                rle += [0,0]\n",
        "            CB_rle=rle\n",
        "            z=CR_z\n",
        "            p,q = 1, 1\n",
        "            lst = 63\n",
        "            rle = []\n",
        "            while lst>=0 and z[lst]==0:\n",
        "                lst -= 1\n",
        "            while q<=lst:\n",
        "                if (z[q]==0 and q-p+1==16) or z[q]!=0:\n",
        "                    rle += [q-p, int(z[q]).bit_length(), z[q]]\n",
        "                    p=q+1\n",
        "                q += 1\n",
        "            if lst!=63:\n",
        "                rle += [0,0]\n",
        "            CR_rle=rle\n",
        "            Y_rl_class, Y_vli = get_symb_val(Y_rle)\n",
        "            CB_rl_class, CB_vli = get_symb_val(CB_rle)\n",
        "            CR_rl_class, CR_vli = get_symb_val(CR_rle)\n",
        "            AC_y = AC_y+Y_rl_class\n",
        "            AC_Cb = AC_Cb+CB_rl_class\n",
        "            AC_Cr = AC_Cr+CR_rl_class\n",
        "            AC_Y_vli = AC_Y_vli+Y_vli\n",
        "            AC_Cb_vli = AC_Cb_vli+CB_vli\n",
        "            AC_Cr_vli = AC_Cr_vli+CR_vli\n",
        "\n",
        "            Y_dc,CB_dc,CR_dc = Y_z[0]-prev_Y_dc, CB_z[0]-prev_CB_dc, CR_z[0]-prev_CR_dc\n",
        "            DC_y.append(int(Y_dc).bit_length())\n",
        "            DC_Cb.append(int(CB_dc).bit_length())\n",
        "            DC_Cr.append(int(CR_dc).bit_length())\n",
        "            DC_y_vli.append(var_info(Y_dc))\n",
        "            DC_Cb_vli.append(var_info(CB_dc))\n",
        "            DC_Cr_vli.append(var_info(CR_dc))\n",
        "            prev_Y_dc,prev_CB_dc,prev_CR_dc = Y_z[0],CB_z[0],CR_z[0]\n",
        "    for i in range(len(AC_y)):\n",
        "      if AC_y[i]>255:\n",
        "        AC_y[i]=255\n",
        "    lum_dc_code = huffcode_gen(DC_y)\n",
        "    lum_ac_code = huffcode_gen(AC_y)\n",
        "    chr_dc_code = huffcode_gen(DC_Cb+DC_Cr)\n",
        "    chr_ac_code = huffcode_gen(AC_Cb+AC_Cr)\n",
        "\n",
        "    output_file = input(\"Enter output file name: \")\n",
        "    final_image = open(output_file+\".jpg\", \"wb\")\n",
        "    final_image.write(b'\\xff\\xd8\\xff\\xe0')\n",
        "    final_image.write(pack(\">H\",16))\n",
        "    final_image.write(b'JFIF\\x00\\x01\\x01\\x01\\x00H\\x00H\\x00\\x00')\n",
        "    write_Q(final_image, quant_lum, 0)\n",
        "    write_Q(final_image, quant_chr, 1)\n",
        "    header(final_image,height,width,3)\n",
        "    write_huff_code(final_image,0,lum_dc_code)\n",
        "    write_huff_code(final_image,16,lum_ac_code)\n",
        "    write_huff_code(final_image,1,chr_dc_code)\n",
        "    write_huff_code(final_image,17,chr_ac_code)\n",
        "    components=3\n",
        "    final_image.write(b'\\xff\\xda')\n",
        "    final_image.write(pack(\">HB\",6+2*components,components))\n",
        "    final_image.write(b'\\x01\\x00\\x02\\x11\\x03\\x11')\n",
        "    final_image.write(pack(\"BBB\",0,63,0))\n",
        "    Y_dc_ptr, CB_dc_ptr, CR_dc_ptr, Y_ac_ptr, CB_ac_ptr, CR_ac_ptr,Y_dc_vli_ptr, CB_dc_vli_ptr, CR_dc_vli_ptr, Y_ac_vli_ptr, CB_ac_vli_ptr, CR_ac_vli_ptr = 0, 0, 0, 0, 0, 0,0, 0, 0, 0, 0, 0\n",
        "    data = \"\"\n",
        "    while Y_dc_ptr<len(DC_y):\n",
        "      data = data+lum_dc_code[DC_y[Y_dc_ptr]]+DC_y_vli[Y_dc_vli_ptr]\n",
        "      Y_dc_ptr+=1\n",
        "      Y_dc_vli_ptr+=1\n",
        "      size = 1\n",
        "      while size<8*8 and AC_y[Y_ac_ptr]!=0:\n",
        "          data = data+lum_ac_code[AC_y[Y_ac_ptr]]+AC_Y_vli[Y_ac_vli_ptr]\n",
        "\n",
        "          size += (AC_y[Y_ac_ptr]>>4)\n",
        "          size += 1\n",
        "          Y_ac_ptr+=1\n",
        "          Y_ac_vli_ptr+=1\n",
        "      if size<8*8:\n",
        "          data = data+lum_ac_code[0]\n",
        "          Y_ac_ptr+=1\n",
        "\n",
        "      data = data+chr_dc_code[DC_Cb[CB_dc_ptr]]+DC_Cb_vli[CB_dc_vli_ptr]\n",
        "      CB_dc_ptr+=1\n",
        "      CB_dc_vli_ptr+=1\n",
        "      size = 1\n",
        "      while size<8*8 and AC_Cb[CB_ac_ptr]!=0:\n",
        "          data = data+chr_ac_code[AC_Cb[CB_ac_ptr]]+AC_Cb_vli[CB_ac_vli_ptr]\n",
        "          size += (AC_Cb[CB_ac_ptr]>>4)\n",
        "          size += 1\n",
        "          CB_ac_ptr+=1\n",
        "          CB_ac_vli_ptr+=1\n",
        "      if size<8*8:\n",
        "          data = data+chr_ac_code[0]\n",
        "          CB_ac_ptr+=1\n",
        "      data = data+chr_dc_code[DC_Cr[CR_dc_ptr]]+DC_Cr_vli[CR_dc_vli_ptr]\n",
        "      CR_dc_ptr+=1\n",
        "      CR_dc_vli_ptr+=1\n",
        "      size = 1\n",
        "      while size<8*8 and AC_Cr[CR_ac_ptr]!=0:\n",
        "          data = data+chr_ac_code[AC_Cr[CR_ac_ptr]]+AC_Cr_vli[CR_ac_vli_ptr]\n",
        "          size += (AC_Cr[CR_ac_ptr]>>4)\n",
        "          size += 1\n",
        "          CR_ac_ptr+=1\n",
        "          CR_ac_vli_ptr+=1\n",
        "      if size<8*8:\n",
        "          data = data+chr_ac_code[0]\n",
        "          CR_ac_ptr+=1\n",
        "    while len(data)%8!=0:\n",
        "            data=data+\"0\"\n",
        "    result = \"\"\n",
        "    for i in range(0,len(data),8):\n",
        "            temp = data[i:i+8]\n",
        "            result = result+temp\n",
        "            if temp==\"11111111\":\n",
        "                result = result+\"00000000\"\n",
        "    data = result\n",
        "    data=bitarray(data)\n",
        "    final_image.write(data)\n",
        "    final_image.write(b'\\xff\\xd9')\n",
        "    final_image.close()\n"
      ]
    },
    {
      "cell_type": "code",
      "source": [
        "name=input('Enter the name of the file:   ')\n",
        "image = cv2.imread(name)\n",
        "compress(image)"
      ],
      "metadata": {
        "colab": {
          "base_uri": "https://localhost:8080/"
        },
        "id": "RCu9Tezungk6",
        "outputId": "310d55b7-ef60-482c-8ce7-c600477923c1"
      },
      "execution_count": 15,
      "outputs": [
        {
          "name": "stdout",
          "output_type": "stream",
          "text": [
            "Enter the name of the file:   corn.bmp\n",
            "Enter output file name: oo\n"
          ]
        }
      ]
    }
  ],
  "metadata": {
    "colab": {
      "provenance": []
    },
    "kernelspec": {
      "display_name": "Python 3",
      "name": "python3"
    },
    "language_info": {
      "name": "python"
    }
  },
  "nbformat": 4,
  "nbformat_minor": 0
}