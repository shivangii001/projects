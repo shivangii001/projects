{
  "cells": [
    {
      "cell_type": "markdown",
      "metadata": {
        "id": "UeDVUhBBXZyf"
      },
      "source": [
        "Cloning the repo\n",
        "\n"
      ]
    },
    {
      "cell_type": "code",
      "execution_count": null,
      "metadata": {
        "colab": {
          "base_uri": "https://localhost:8080/"
        },
        "id": "FXXdsY-PwAIc",
        "outputId": "12070813-a3a1-4773-8709-9ea35b659e0e"
      },
      "outputs": [
        {
          "name": "stdout",
          "output_type": "stream",
          "text": [
            "Mounted at /content/drive\n"
          ]
        }
      ],
      "source": [
        "from google.colab import drive\n",
        "drive.mount('/content/drive')"
      ]
    },
    {
      "cell_type": "code",
      "execution_count": null,
      "metadata": {
        "colab": {
          "base_uri": "https://localhost:8080/"
        },
        "id": "K0gpoMipImHG",
        "outputId": "fe9ee4ca-fbc8-4643-9a12-fb9a2dcdf963"
      },
      "outputs": [
        {
          "output_type": "stream",
          "name": "stdout",
          "text": [
            "Cloning into 'FlowNetPytorch'...\n",
            "remote: Enumerating objects: 559, done.\u001b[K\n",
            "remote: Counting objects: 100% (47/47), done.\u001b[K\n",
            "remote: Compressing objects: 100% (32/32), done.\u001b[K\n",
            "remote: Total 559 (delta 17), reused 30 (delta 14), pack-reused 512\u001b[K\n",
            "Receiving objects: 100% (559/559), 1.23 MiB | 3.61 MiB/s, done.\n",
            "Resolving deltas: 100% (313/313), done.\n"
          ]
        }
      ],
      "source": [
        "!git clone https://github.com/ClementPinard/FlowNetPytorch.git\n"
      ]
    },
    {
      "cell_type": "code",
      "execution_count": null,
      "metadata": {
        "colab": {
          "base_uri": "https://localhost:8080/"
        },
        "id": "G79QcLPAI-PZ",
        "outputId": "8f0f9772-bd59-4956-f19a-821d640ec349"
      },
      "outputs": [
        {
          "name": "stdout",
          "output_type": "stream",
          "text": [
            "/content/FlowNetPytorch\n"
          ]
        }
      ],
      "source": [
        "%cd FlowNetPytorch/"
      ]
    },
    {
      "cell_type": "code",
      "execution_count": null,
      "metadata": {
        "id": "zUiwzpTtJUXL"
      },
      "outputs": [],
      "source": [
        "pip install -r requirements.txt"
      ]
    },
    {
      "cell_type": "markdown",
      "metadata": {
        "id": "RQw4ebYPekfJ"
      },
      "source": [
        "Running pretrained model of flownet on flying chair dataset"
      ]
    },
    {
      "cell_type": "code",
      "execution_count": null,
      "metadata": {
        "id": "0qm4j2urnq4N"
      },
      "outputs": [],
      "source": [
        "!python3 run_inference.py /content/ /content/FlowNetPytorch/flying_chairs/03-23-11:45/flownets,adam,10epochs,epochSize1000,b8,lr1e-05/model_best.pth.tar"
      ]
    },
    {
      "cell_type": "markdown",
      "metadata": {
        "id": "vMR3mqm_Elbo"
      },
      "source": [
        "Lucas kanade"
      ]
    },
    {
      "cell_type": "code",
      "execution_count": null,
      "metadata": {
        "id": "3F3G1Tehup55"
      },
      "outputs": [],
      "source": [
        "import numpy as np\n",
        "import cv2\n",
        "import matplotlib.pyplot as plt\n",
        "import math"
      ]
    },
    {
      "cell_type": "code",
      "execution_count": null,
      "metadata": {
        "id": "vEmI84Kwuj_3"
      },
      "outputs": [],
      "source": [
        "def pad(img,k):\n",
        "  img=np.insert(img,img.shape[0],img[img.shape[0]-1,:],axis=0)\n",
        "  img=np.insert(img,img.shape[1],img[:,img.shape[1]-1],axis=1)\n",
        "  for i in range(k//2):\n",
        "      img=np.insert(img,img.shape[0],img[img.shape[0]-1,:],axis=0)\n",
        "      img=np.insert(img,img.shape[1],img[:,img.shape[1]-1],axis=1)\n",
        "      img=np.insert(img,0,img[0,:],axis=0)\n",
        "      img=np.insert(img,0,img[:,0],axis=1)\n",
        "  return img"
      ]
    },
    {
      "cell_type": "code",
      "execution_count": null,
      "metadata": {
        "id": "qgprywGBFFxa"
      },
      "outputs": [],
      "source": [
        "def LN(str1,str2,str3):\n",
        "  gt=np.load(str3)\n",
        "  img_1=cv2.cvtColor(cv2.imread(str1),cv2.COLOR_BGR2GRAY).astype(np.float32)\n",
        "  img_2=cv2.cvtColor(cv2.imread(str2),cv2.COLOR_BGR2GRAY).astype(np.float32)\n",
        "  # plt.subplot(2, 3, 1)\n",
        "  # plt.imshow(img_1, cmap = 'gray')\n",
        "  # plt.subplot(2, 3, 2)\n",
        "  # plt.imshow(img_2, cmap = 'gray')\n",
        "  # plt.subplot(2, 3, 3)\n",
        "  # plt.imshow(gt, cmap = 'gray')\n",
        "  w=3\n",
        "  for kernel in [3]:\n",
        "      img1=pad(img_1,kernel)\n",
        "      img2=pad(img_2,kernel)\n",
        "      r,c=img1.shape\n",
        "      I_x=np.zeros((r-1,c-1))\n",
        "      I_y=np.zeros((r-1,c-1))\n",
        "      I_t=np.zeros((r-1,c-1))\n",
        "      for i in range(r-1):\n",
        "        for j in range(c-1):\n",
        "          I_x[i,j]=0.25*(img1[i+1,j]+img2[i+1,j]+img1[i+1,j+1]+img2[i+1,j+1]-(img1[i,j]+img2[i,j]+img1[i,j+1]+img2[i,j+1]))\n",
        "          I_y[i,j]=0.25*(img1[i,j+1]+img2[i,j+1]+img1[i+1,j+1]+img2[i+1,j+1]-(img1[i,j]+img2[i,j]+img1[i+1,j]+img2[i+1,j]))\n",
        "          I_t[i,j]=0.25*(img2[i,j+1]+img2[i+1,j+1]+img2[i+1,j]+img2[i,j]-(img1[i,j+1]+img1[i+1,j+1]+img1[i+1,j]+img1[i,j]))\n",
        "      optical_flow=np.zeros((r-kernel,c-kernel))\n",
        "      r,c=optical_flow.shape\n",
        "      for i in range(kernel//2,r+kernel//2):\n",
        "        for j in range(kernel//2,c+kernel//2):\n",
        "          A=np.zeros((kernel*kernel,2))\n",
        "          b=np.zeros((kernel*kernel,1))\n",
        "          l=0\n",
        "          for m in range(i-kernel//2,i+kernel//2+1):\n",
        "            for n in range(j-kernel//2,j+kernel//2+1):\n",
        "              A[l][0]=I_x[m,n]\n",
        "              A[l][1]=I_y[m,n]\n",
        "              b[l][0]=-I_t[m,n]\n",
        "              l+=1\n",
        "          h=(A.T@A)\n",
        "          if (np.linalg.det(h)!=0):\n",
        "            u=(np.linalg.inv(h)@A.T@b)\n",
        "          else :\n",
        "            u=np.array([[0],[0]])\n",
        "          optical_flow[i-kernel//2,j-kernel//2]=((u[1,0])**2 + (u[0,0])**2 )**0.5\n",
        "      w+=1\n",
        "      MSE =np.square(optical_flow-gt).mean()\n",
        "      print(f' For patch size = {kernel} X {kernel}, MSE = {MSE}.')"
      ]
    },
    {
      "cell_type": "code",
      "execution_count": null,
      "metadata": {
        "colab": {
          "base_uri": "https://localhost:8080/"
        },
        "id": "mZo2tWNFFJi-",
        "outputId": "ac05fa32-b78d-434b-c46f-13dd4da08494"
      },
      "outputs": [
        {
          "name": "stdout",
          "output_type": "stream",
          "text": [
            " For patch size = 3 X 3, MSE = 71.72264556563962.\n"
          ]
        }
      ],
      "source": [
        "LN(\"/content/img1.jpg\",\"/content/img2.jpg\",\"/content/GT1.npy\")"
      ]
    },
    {
      "cell_type": "markdown",
      "metadata": {
        "id": "tTJ9O3ENevDW"
      },
      "source": [
        "Calculating MSE between Lucas kanade flow output and Flownet optical flow output"
      ]
    },
    {
      "cell_type": "code",
      "execution_count": null,
      "metadata": {
        "id": "i9AyUsg2tYz-"
      },
      "outputs": [],
      "source": [
        "import numpy as np\n",
        "\n",
        "# Load the .npy file into a numpy array\n",
        "gt = np.load('GT1.npy')\n",
        "\n",
        "import cv2\n",
        "\n",
        "# Load the image\n",
        "image = cv2.imread('/content/imgflow.png')\n",
        "\n",
        "# Resize the image to 96x128\n",
        "resized_image = cv2.resize(image, (512, 384))\n",
        "gray_image = cv2.cvtColor(resized_image, cv2.COLOR_BGR2GRAY)\n",
        "gray_image = 255 - gray_image\n",
        "MSE =np.square(gray_image-gt).mean()\n",
        "print(MSE)"
      ]
    },
    {
      "cell_type": "markdown",
      "metadata": {
        "id": "ooWKSRPXlPBd"
      },
      "source": [
        "# MSE"
      ]
    },
    {
      "cell_type": "code",
      "execution_count": null,
      "metadata": {
        "id": "FpP-SW9ylIS2"
      },
      "outputs": [],
      "source": [
        "import cv2\n",
        "import numpy as np\n",
        "\n",
        "def calculate_mse(image1, image2):\n",
        "    # Ensure both images have the same dimensions\n",
        "    if image1.shape != image2.shape:\n",
        "        raise ValueError(\"The images must have the same dimensions.\")\n",
        "\n",
        "    # Compute the Mean Squared Error (MSE)\n",
        "    mse = np.mean((image1 - image2) ** 2)\n",
        "\n",
        "    return mse\n",
        "\n",
        "# Example usage:\n",
        "img1 = cv2.imread('image1.jpg')\n",
        "img2 = cv2.imread('image2.jpg')\n",
        "\n",
        "mse = calculate_mse(img1, img2)\n",
        "print(\"Mean Squared Error (MSE):\", mse)\n"
      ]
    },
    {
      "cell_type": "code",
      "execution_count": null,
      "metadata": {
        "id": "ynZriGk3p1of"
      },
      "outputs": [],
      "source": [
        "mse = calculate_mse(image1, image2)\n",
        "print(mse)"
      ]
    },
    {
      "cell_type": "markdown",
      "metadata": {
        "id": "3pr8Xdz2Jg52"
      },
      "source": [
        "#####################################################################################################"
      ]
    },
    {
      "cell_type": "markdown",
      "metadata": {
        "id": "R9uJzQQ4m_Ln"
      },
      "source": [
        "# Code To Generate GT for the video"
      ]
    },
    {
      "cell_type": "code",
      "execution_count": null,
      "metadata": {
        "id": "gAFZUP7KQxQx"
      },
      "outputs": [],
      "source": [
        "import numpy as np\n",
        "import torch\n",
        "import matplotlib.pyplot as plt\n",
        "import torchvision.transforms.functional as F\n",
        "import torchvision.transforms as T\n",
        "from torchvision.io import read_video\n",
        "from torchvision.models.optical_flow import raft_small\n",
        "from torchvision.utils import save_image, flow_to_image\n",
        "import tempfile\n",
        "from pathlib import Path\n",
        "from urllib.request import urlretrieve\n",
        "\n",
        "\n",
        "plt.rcParams[\"savefig.bbox\"] = \"tight\"\n",
        "\n",
        "\n",
        "def plot(imgs, **imshow_kwargs):\n",
        "    if not isinstance(imgs[0], list):\n",
        "        # Make a 2d grid even if there's just 1 row\n",
        "        imgs = [imgs]\n",
        "\n",
        "    num_rows = len(imgs)\n",
        "    num_cols = len(imgs[0])\n",
        "    _, axs = plt.subplots(nrows=num_rows, ncols=num_cols, squeeze=False)\n",
        "    for row_idx, row in enumerate(imgs):\n",
        "        for col_idx, img in enumerate(row):\n",
        "            ax = axs[row_idx, col_idx]\n",
        "            img = F.to_pil_image(img.to(\"cpu\"))\n",
        "            ax.imshow(np.asarray(img), **imshow_kwargs)\n",
        "            ax.set(xticklabels=[], yticklabels=[], xticks=[], yticks=[])\n",
        "\n",
        "    plt.tight_layout()\n",
        "\n",
        "\n",
        "# video_url = \"https://download.pytorch.org/tutorial/pexelscom_pavel_danilyuk_basketball_hd.mp4\"\n",
        "video_path = \"/content/fl1.mp4\"\n",
        "# _ = urlretrieve(video_url, video_path)\n",
        "\n",
        "frames, _, _ = read_video(str(video_path))\n",
        "frames = frames.permute(0, 3, 1, 2)  # (N, H, W, C) -> (N, C, H, W)\n",
        "\n",
        "img1_batch = torch.stack([frames[100], frames[150]])\n",
        "img2_batch = torch.stack([frames[101], frames[151]])\n",
        "\n",
        "plot(img1_batch)\n",
        "\n",
        "\n",
        "def preprocess(batch):\n",
        "    transforms = T.Compose(\n",
        "        [\n",
        "            T.ConvertImageDtype(torch.float32),\n",
        "            T.Normalize(mean=0.5, std=0.5),  # map [0, 1] into [-1, 1]\n",
        "            T.Resize(size=(520, 960)),\n",
        "        ]\n",
        "    )\n",
        "    batch = transforms(batch)\n",
        "    return batch\n",
        "\n",
        "\n",
        "# If you can, run this example on a GPU, it will be a lot faster.\n",
        "device = \"cuda\" if torch.cuda.is_available() else \"cpu\"\n",
        "\n",
        "img1_batch = preprocess(img1_batch).to(device)\n",
        "img2_batch = preprocess(img2_batch).to(device)\n",
        "\n",
        "print(f\"shape = {img1_batch.shape}, dtype = {img1_batch.dtype}\")\n",
        "\n",
        "model = raft_large(pretrained=True, progress=False).to(device)\n",
        "model = model.eval()\n",
        "\n",
        "list_of_flows = model(img1_batch.to(device), img2_batch.to(device))\n",
        "print(f\"type = {type(list_of_flows)}\")\n",
        "print(f\"length = {len(list_of_flows)} = number of iterations of the model\")\n",
        "\n",
        "predicted_flows = list_of_flows[-1]\n",
        "print(f\"dtype = {predicted_flows.dtype}\")\n",
        "print(f\"shape = {predicted_flows.shape} = (N, 2, H, W)\")\n",
        "print(f\"min = {predicted_flows.min()}, max = {predicted_flows.max()}\")\n",
        "\n",
        "flow_imgs = flow_to_image(predicted_flows)\n",
        "\n",
        "# The images have been mapped into [-1, 1] but for plotting we want them in [0, 1]\n",
        "img1_batch = [(img1 + 1) / 2 for img1 in img1_batch]\n",
        "\n",
        "# Save the reference images and flow output\n",
        "img_names = ['frame1', 'frame2']\n",
        "ext = 'png'\n",
        "\n",
        "for i, (img, flow_img) in enumerate(zip(img1_batch, flow_imgs), 1):\n",
        "    save_image(img, f'{img_names[i-1]}.{i}.{ext}')\n",
        "    flow_img = (flow_img + 1) * 127.5  # Scale to [0, 255]\n",
        "    flow_img = flow_img.clamp(0, 255).to(torch.uint8)  # Ensure within valid range and convert to uint8\n",
        "    save_image(flow_img.permute(2, 0, 1), f'{img_names[i-1]}_flow.{i}.{ext}')  # Save flow image\n",
        "\n"
      ]
    },
    {
      "cell_type": "markdown",
      "metadata": {
        "id": "hgY53o8HfIkv"
      },
      "source": [
        "Data set has been generated using RAFT Model\n"
      ]
    },
    {
      "cell_type": "markdown",
      "metadata": {
        "id": "jJQk7nC_g6B5"
      },
      "source": [
        "Trained using the pretrained model with lr = 0.00001 epochs =10 , batch size = 8"
      ]
    },
    {
      "cell_type": "code",
      "execution_count": null,
      "metadata": {
        "id": "RQ4WjzzAg0vF"
      },
      "outputs": [],
      "source": [
        "!python main.py /content/drive/MyDrive/new_data -b8 -j8 --lr 0.00001 --epochs 10  --pretrained /content/drive/MyDrive/pytorch/flownets_EPE1.951.pth -a flownets"
      ]
    },
    {
      "cell_type": "markdown",
      "metadata": {
        "id": "8Kb3czvehM8t"
      },
      "source": [
        "Used the trained model to generate flow for test_dataset"
      ]
    },
    {
      "cell_type": "code",
      "execution_count": null,
      "metadata": {
        "id": "JTxwPnlsg_Si"
      },
      "outputs": [],
      "source": [
        "!python3 run_inference.py /content/ /content/FlowNetPytorch/flying_chairs/03-23-11:45/flownets,adam,10epochs,epochSize1000,b8,lr1e-05/model_best.pth.tar"
      ]
    },
    {
      "cell_type": "code",
      "execution_count": null,
      "metadata": {
        "id": "M-SnMOg8h2rR"
      },
      "outputs": [],
      "source": [
        "LN(\"/content/img1.jpg\",\"/content/img2.jpg\",\"/content/GT1.npy\")"
      ]
    },
    {
      "cell_type": "markdown",
      "metadata": {
        "id": "X1WVPJrdi5xP"
      },
      "source": [
        "Block Matching Algorithm"
      ]
    },
    {
      "cell_type": "code",
      "execution_count": null,
      "metadata": {
        "id": "EUFVlpLrkMW-"
      },
      "outputs": [],
      "source": [
        "def pad2(img,k):\n",
        "  for i in range(k):\n",
        "      img=np.insert(img,img.shape[0],np.zeros((1,img.shape[1])),axis=0)\n",
        "      img=np.insert(img,img.shape[1],np.zeros((img.shape[0],1)).reshape((img.shape[0],)),axis=1)\n",
        "      img=np.insert(img,0,np.zeros((1,img.shape[1])),axis=0)\n",
        "      img=np.insert(img,0,np.zeros((img.shape[0],1)).reshape((img.shape[0],)),axis=1)\n",
        "  return img\n",
        "def h_match(b,a):\n",
        "    r,c=b.shape\n",
        "    l,k=a.shape\n",
        "    l=l//2\n",
        "    k=k//2\n",
        "    r=r//2\n",
        "    c=c//2\n",
        "    loss=np.square(a[0:2*r+1,0:2*c+1]-b).sum()\n",
        "    m,n=r,c\n",
        "    f=((m-l)**2+(n-k)**2)**0.5\n",
        "    for i in range(r,a.shape[0]-r):\n",
        "      for j in range(c,a.shape[1]-c):\n",
        "        loss1=np.square(a[i-r:i+r+1,j-c:j+c+1]-b).mean()\n",
        "        if(loss1<=loss):\n",
        "          loss=loss1\n",
        "          if (((i-l)**2+(j-k)**2)**0.5)<f:\n",
        "            m,n=i,j\n",
        "            f=((m-l)**2+(n-k)**2)**0.5\n",
        "    return f\n",
        "\n",
        "def H_search(str1,str2,str3,blocksize=5,window=8):\n",
        "  pad=window+blocksize//2\n",
        "  img_1=cv2.cvtColor(cv2.imread(str1),cv2.COLOR_BGR2GRAY).astype(np.float32)\n",
        "  img_2=cv2.cvtColor(cv2.imread(str2),cv2.COLOR_BGR2GRAY).astype(np.float32)\n",
        "  gt=np.load(str3)\n",
        "  plt.subplot(1, 4, 1)\n",
        "  plt.imshow(img_1, cmap = 'gray')\n",
        "  plt.subplot(1, 4, 2)\n",
        "  plt.imshow(img_2, cmap = 'gray')\n",
        "  plt.subplot(1, 4, 3)\n",
        "  plt.imshow(gt, cmap = 'gray')\n",
        "  flow=np.zeros(img_1.shape)\n",
        "  img1=pad2(img_1,blocksize//2)\n",
        "  img2=pad2(img_2,pad)\n",
        "  r,c=img1.shape\n",
        "  j=3\n",
        "  for i in range (blocksize//2,r-blocksize//2):\n",
        "    for j in range (blocksize//2,c-blocksize//2):\n",
        "      flow[i-blocksize//2,j-blocksize//2]=h_match(img1[i-blocksize//2:i+1+blocksize//2,j-blocksize//2:j+1+blocksize//2],img2[i+window-pad:i+window+1+pad,j+window-pad:j+window+1+pad])\n",
        "  plt.subplot(1, 4, 4)\n",
        "  plt.imshow(flow, cmap = 'gray')\n",
        "  MSE = np.square(flow-gt).mean()\n",
        "  print(f' For window size , MSE = {MSE}.')\n",
        "  return flow"
      ]
    },
    {
      "cell_type": "code",
      "execution_count": null,
      "metadata": {
        "colab": {
          "base_uri": "https://localhost:8080/"
        },
        "id": "d8RX1ZxYkzkc",
        "outputId": "f1930b9e-c43e-4d7e-f919-4c7f8fc20d02"
      },
      "outputs": [
        {
          "name": "stdout",
          "output_type": "stream",
          "text": [
            "/content\n"
          ]
        }
      ],
      "source": [
        "%cd /content/"
      ]
    },
    {
      "cell_type": "code",
      "execution_count": null,
      "metadata": {
        "colab": {
          "background_save": true
        },
        "id": "8tz1YuX0kVBQ",
        "outputId": "cd6ddbde-f42a-4170-ef81-9bcbe7650929"
      },
      "outputs": [
        {
          "name": "stdout",
          "output_type": "stream",
          "text": [
            " For window size , MSE = 56.629194273541714.\n"
          ]
        },
        {
          "data": {
            "image/png": "[encoded data removed]",
            "text/plain": [
              "<Figure size 640x480 with 4 Axes>"
            ]
          },
          "metadata": {},
          "output_type": "display_data"
        }
      ],
      "source": [
        "flow=H_search('img1.jpg','img2.jpg','GT1.npy')"
      ]
    }
  ],
  "metadata": {
    "colab": {
      "provenance": []
    },
    "kernelspec": {
      "display_name": "Python 3",
      "name": "python3"
    },
    "language_info": {
      "name": "python"
    }
  },
  "nbformat": 4,
  "nbformat_minor": 0
}